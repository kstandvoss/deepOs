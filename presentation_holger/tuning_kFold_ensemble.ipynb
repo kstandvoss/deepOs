{
 "cells": [
  {
   "cell_type": "code",
   "execution_count": 1,
   "metadata": {
    "collapsed": false
   },
   "outputs": [
    {
     "name": "stderr",
     "output_type": "stream",
     "text": [
      "Using Theano backend.\n",
      "Using gpu device 0: GeForce GTX TITAN X (CNMeM is enabled with initial size: 10.0% of memory, cuDNN 4007)\n"
     ]
    }
   ],
   "source": [
    "# imports\n",
    "%matplotlib inline\n",
    "%load_ext autoreload\n",
    "%aimport statefarm\n",
    "%autoreload 1\n",
    "\n",
    "import matplotlib\n",
    "import numpy as np\n",
    "import matplotlib.pyplot as plt\n",
    "\n",
    "from IPython.display import HTML, display\n",
    "from collections import OrderedDict\n",
    "import os\n",
    "import keras\n",
    "from statefarm import Statefarm\n",
    "import theano\n",
    "import theano.tensor as T\n",
    "import datetime\n",
    "from keras.models import Sequential\n",
    "from keras.layers.core import Dense, Dropout, Activation, Flatten\n",
    "from keras.layers.convolutional import Convolution2D, MaxPooling2D\n",
    "from sklearn.cross_validation import KFold"
   ]
  },
  {
   "cell_type": "code",
   "execution_count": 10,
   "metadata": {
    "code_folding": [
     0,
     1
    ],
    "collapsed": false
   },
   "outputs": [],
   "source": [
    "# compile loss function:\n",
    "def log_loss_objective(y_true, y_pred):\n",
    "    '''Just another log loss'''\n",
    "    y_pred = T.clip(y_pred, 1.0e-15, 1.0 - 1.0e-15)\n",
    "    y_pred /= y_pred.sum(axis=-1, keepdims=True)\n",
    "    cce = T.nnet.categorical_crossentropy(y_pred, y_true)\n",
    "    return cce\n",
    "\n",
    "y_true= theano.tensor.matrix()\n",
    "y_pred = theano.tensor.matrix()\n",
    "log_loss_objective_compiled = theano.function([y_true,y_pred], log_loss_objective(y_true,y_pred))"
   ]
  },
  {
   "cell_type": "code",
   "execution_count": 11,
   "metadata": {
    "code_folding": [],
    "collapsed": false
   },
   "outputs": [],
   "source": [
    "# load statefarm data:\n",
    "use_cache = 1\n",
    "path_data = \"/work/hofinger/code/python/statefarm/input\"\n",
    "path_cache = \"/net/store/ni/projects/deeplearning/statefarm/cache\"\n",
    "\n",
    "statefarm = Statefarm(use_cache, path_data, path_cache)\n",
    "\n",
    "unique_list_train_valid = ['p002', 'p012', 'p014', 'p015', 'p021', 'p022', 'p024',\n",
    "                 'p026', 'p035', 'p039', 'p041', 'p045', 'p047', 'p049',\n",
    "                 'p050', 'p051', 'p052', 'p056', 'p061', 'p064', 'p066', 'p072', 'p081', 'p042']\n",
    "unique_list_test = ['p075', 'p016']"
   ]
  },
  {
   "cell_type": "code",
   "execution_count": 12,
   "metadata": {
    "code_folding": [
     0
    ],
    "collapsed": true
   },
   "outputs": [],
   "source": [
    "def create_model_v1(img_rows, img_cols, color_type=1, weight_decay=0, \n",
    "                    nb_filters1=8, nb_filters2=8, nb_filters3=0, \n",
    "                    nb_conv=2, nb_pool=2, nb_dense=128, \n",
    "                    dropout1=0, dropout2=0.25, dropout3=0, dropout4=0.5, \n",
    "                    lr=None, optimizer='sgd'):\n",
    "    nb_classes = 10\n",
    "    model = Sequential()\n",
    "    \n",
    "    if nb_filters1:\n",
    "        model.add(Convolution2D(nb_filters1, nb_conv, nb_conv,\n",
    "                                border_mode='valid',\n",
    "                                input_shape=(color_type, img_rows, img_cols),\n",
    "                                W_regularizer=keras.regularizers.l2(weight_decay)))\n",
    "        model.add(Activation('relu'))\n",
    "        model.add(MaxPooling2D(pool_size=(nb_pool, nb_pool)))\n",
    "        if dropout1:\n",
    "            model.add(Dropout(dropout1))\n",
    "    \n",
    "    if nb_filters2:\n",
    "        model.add(Convolution2D(nb_filters2, nb_conv, nb_conv,\n",
    "                                W_regularizer=keras.regularizers.l2(weight_decay)))\n",
    "        model.add(Activation('relu'))\n",
    "        model.add(MaxPooling2D(pool_size=(nb_pool, nb_pool)))\n",
    "        if dropout2:\n",
    "            model.add(Dropout(dropout2))\n",
    "        \n",
    "    if nb_filters3:\n",
    "        model.add(Convolution2D(nb_filters3, nb_conv, nb_conv,\n",
    "                                W_regularizer=keras.regularizers.l2(weight_decay)))\n",
    "        model.add(Activation('relu'))\n",
    "        model.add(MaxPooling2D(pool_size=(nb_pool, nb_pool)))\n",
    "        if dropout3:\n",
    "            model.add(Dropout(dropout3))\n",
    "\n",
    "    model.add(Flatten())\n",
    "    model.add(Dense(nb_dense))\n",
    "    model.add(Activation('relu'))\n",
    "    if dropout4:\n",
    "        model.add(Dropout(dropout4))\n",
    "    model.add(Dense(nb_classes))\n",
    "    model.add(Activation('softmax'))\n",
    "\n",
    "    if optimizer==\"sgd\":\n",
    "        if lr==None:\n",
    "            lr=0.1\n",
    "        optim = keras.optimizers.SGD(lr=lr, decay=0, momentum=0, nesterov=False)\n",
    "    elif optimizer==\"rmsprop\":\n",
    "        if lr==None:\n",
    "            lr=0.01\n",
    "        optim = keras.optimizers.RMSprop(lr=lr, rho=0.9, epsilon=1e-06)\n",
    "    else:\n",
    "        if lr==None:\n",
    "            lr=1.0\n",
    "        optim = keras.optimizers.Adadelta(lr=lr, rho=0.95, epsilon=1e-06)\n",
    "\n",
    "    model.compile(loss=log_loss_objective, optimizer=optim, metrics=[\"accuracy\"])\n",
    "    return model"
   ]
  },
  {
   "cell_type": "code",
   "execution_count": null,
   "metadata": {
    "code_folding": [
     10
    ],
    "collapsed": false,
    "scrolled": true
   },
   "outputs": [
    {
     "name": "stdout",
     "output_type": "stream",
     "text": [
      "tuning dropout4 with values: [0.4, 0.5, 0.6]\n",
      "tuning weight_decay with values: [0.003, 0.01]\n",
      "tuning scale_factor with values: [12, 16]\n",
      "total number of runs: 12\n",
      "dropout4[0] = 0.4\n",
      "weight_decay[0] = 0.003\n",
      "scale_factor[0] = 12\n",
      "Start KFold number 1 of 5\n",
      "Epoch 00017: early stopping\n",
      "early stopping triggered after iteration: 18\n",
      "epoch with best performance on validation set: 6\n",
      "Best epoch: log_loss on test set: 1.7970673176\n",
      "Start KFold number 2 of 5\n"
     ]
    }
   ],
   "source": [
    "# define parameters for grid search:\n",
    "batch_size = 64\n",
    "nb_epoch = 100\n",
    "\n",
    "params_input = {\n",
    "    'color_type_global': 1, # color type: 1 - grey, 3 - rgb\n",
    "    'scale_factor': [12, 16], # the factor to reduce resolution\n",
    "    'interp': 'nearest' # imresize interp: 'nearest','bilinear','bicubic','cubic'\n",
    "}\n",
    "\n",
    "params = {\n",
    "    'nb_filters1': 8, # number of convolutional filters first layer\n",
    "    'nb_filters2': 10, # number of convolutional filters second layer\n",
    "    'nb_filters3': 0, # number of convolutional filters third layer\n",
    "    'nb_pool': 2, # size of pooling area for max pooling\n",
    "    'nb_conv': 3, # convolution kernel size\n",
    "    'nb_dense': 60, # number of units in last / fourth layer\n",
    "    'weight_decay': [0.003, 0.01],\n",
    "    'dropout1': 0.25,\n",
    "    'dropout2': 0.25,\n",
    "    'dropout3': 0,\n",
    "    'dropout4': [0.4, 0.5, 0.6],\n",
    "    'optimizer': 'rmsprop',\n",
    "    'lr': 0.003 # learning rate\n",
    "}\n",
    "\n",
    "var_params_group = []\n",
    "var_params_names = []\n",
    "var_params_values = []\n",
    "var_params_length = []\n",
    "total_nr_runs = 1\n",
    "for key, val in params.items():\n",
    "    if isinstance(val, list):\n",
    "        var_params_group.append('params')\n",
    "        var_params_names.append(key)\n",
    "        var_params_values.append(val)\n",
    "        var_params_length.append(len(val))\n",
    "        total_nr_runs = total_nr_runs * len(val)\n",
    "        print('tuning '+str(key)+' with values: '+str(val))\n",
    "        \n",
    "for key, val in params_input.items():\n",
    "    if isinstance(val, list):\n",
    "        var_params_group.append('params_input')\n",
    "        var_params_names.append(key)\n",
    "        var_params_values.append(val)\n",
    "        var_params_length.append(len(val))\n",
    "        total_nr_runs = total_nr_runs * len(val)\n",
    "        print('tuning '+str(key)+' with values: '+str(val))\n",
    "\n",
    "print('total number of runs: '+str(total_nr_runs))\n",
    "\n",
    "# start training:\n",
    "all_log_loss_test = []\n",
    "all_history = []\n",
    "all_log_loss_validation = []\n",
    "all_log_loss_ensemble_medi = []\n",
    "all_log_loss_ensemble_mean = []\n",
    "all_checkpoint_filename = []\n",
    "param_comb = dict()\n",
    "for k in range(total_nr_runs):\n",
    "    \n",
    "    if len(var_params_length)>0:\n",
    "        multidim_indices = np.unravel_index(k, var_params_length)\n",
    "        for key, param_name in enumerate(var_params_names):\n",
    "            index = multidim_indices[key]\n",
    "            val = var_params_values[key][index]\n",
    "            print('' + param_name + '[' + str(index) + '] = ' + str(val))\n",
    "\n",
    "            if var_params_group[key]=='params':\n",
    "                params[param_name] = val\n",
    "            elif var_params_group[key]=='params_input':\n",
    "                params_input[param_name] = val\n",
    "\n",
    "            if var_params_group[key] not in param_comb.keys():\n",
    "                param_comb[var_params_group[key]] = dict()\n",
    "            if param_name not in param_comb[var_params_group[key]].keys():\n",
    "                param_comb[var_params_group[key]][param_name] = []\n",
    "            param_comb[var_params_group[key]][param_name].append(val)  \n",
    "        \n",
    "    \n",
    "    # prepare input\n",
    "    color_type_global = params_input['color_type_global']\n",
    "    scale_factor = params_input['scale_factor']\n",
    "    orig_img_rows = 480\n",
    "    orig_img_cols = 640\n",
    "    img_rows = int(orig_img_rows/scale_factor)\n",
    "    img_cols = int(orig_img_cols/scale_factor)\n",
    "\n",
    "    train_data, train_target, driver_id, unique_drivers = statefarm.read_and_normalize_train_data(img_rows, img_cols, color_type_global)\n",
    "    X_test, Y_test, test_index = statefarm.copy_selected_drivers(train_data, train_target, driver_id, unique_list_test)\n",
    "    \n",
    "    #print('Seed RNG')\n",
    "    np.random.seed(1234)\n",
    "    \n",
    "    random_state = 51\n",
    "    nfolds = 5\n",
    "    kf = KFold(len(unique_list_train_valid), n_folds=nfolds, shuffle=True, random_state=random_state)\n",
    "    num_fold = 0\n",
    "    \n",
    "    kfold_log_loss_valid_per_sample = []\n",
    "    kfold_predictions_test = []\n",
    "    kfold_history = []\n",
    "    kfold_log_loss_test = []\n",
    "    kfold_checkpoint_filename = []\n",
    "    \n",
    "    for train_drivers, test_drivers in kf:\n",
    "        \n",
    "        unique_list_train = [unique_list_train_valid[i] for i in train_drivers]\n",
    "        unique_list_valid = [unique_list_train_valid[i] for i in test_drivers]\n",
    "        \n",
    "        X_train, Y_train, train_index = statefarm.copy_selected_drivers(train_data, train_target, driver_id, unique_list_train)\n",
    "        X_valid, Y_valid, valid_index = statefarm.copy_selected_drivers(train_data, train_target, driver_id, unique_list_valid)\n",
    "\n",
    "        num_fold += 1\n",
    "        \n",
    "        print('Start KFold number {} of {}'.format(num_fold, nfolds))\n",
    "\n",
    "        #print('Start Compiling model')\n",
    "        model = create_model_v1(img_rows, img_cols, color_type_global, **params)\n",
    "\n",
    "        init_log_loss_valid = model.evaluate(X_valid, Y_valid, verbose=0)\n",
    "        #print('Initial: log_loss on validation set: ' + str(init_log_loss_valid[0]))\n",
    "        init_log_loss_test = model.evaluate(X_test, Y_test, verbose=0)\n",
    "        #print('Initial: log_loss on test set: ' + str(init_log_loss_test[0]))\n",
    "\n",
    "        #print('Define training callback to save checkpoints')\n",
    "        now = datetime.datetime.now()\n",
    "        checkpoint_filename = 'checkpoint_' + str(now.strftime(\"%Y-%m-%d-%H-%M-%S\")) + '.hdf5'\n",
    "        kfold_checkpoint_filename.append(checkpoint_filename)\n",
    "        checkpoint_path = os.path.join('checkpoints', checkpoint_filename)\n",
    "        checkpoint_callback = keras.callbacks.ModelCheckpoint(checkpoint_path, monitor='val_loss', verbose=0, save_best_only=True, mode='min')\n",
    "        \n",
    "        early_stopping_cb = keras.callbacks.EarlyStopping(monitor='val_loss', patience=10, verbose=1, mode='min')\n",
    "\n",
    "        #print('Start training')\n",
    "        history = model.fit(X_train, Y_train, batch_size=batch_size, nb_epoch=nb_epoch, verbose=0, \n",
    "                            validation_data=(X_valid, Y_valid), \n",
    "                            callbacks=[checkpoint_callback, early_stopping_cb])\n",
    "        \n",
    "        print('early stopping triggered after iteration: ' + str(len(history.history['loss'])))\n",
    "        kfold_history.append(history)\n",
    "\n",
    "        epochId_best_validation = np.argmin(history.history[\"val_loss\"])\n",
    "        print('epoch with best performance on validation set: ' + str(epochId_best_validation))\n",
    "\n",
    "        #print('Reload best validation weights')\n",
    "        model.load_weights(checkpoint_path)\n",
    "\n",
    "        predictions_valid = model.predict(X_valid, batch_size=batch_size, verbose=0)\n",
    "        kfold_log_loss_valid_per_sample.append(log_loss_objective_compiled(Y_valid, predictions_valid.astype('float32')))\n",
    "        #log_loss_current_validation_set = model.evaluate(X_valid, Y_valid, verbose=0)\n",
    "        #print('Best epoch: log_loss on current validation set: ' + str(log_loss_current_validation_set[0]))\n",
    "        \n",
    "        predictions_test = model.predict(X_test, batch_size=batch_size, verbose=0)\n",
    "        kfold_predictions_test.append(predictions_test)\n",
    "        log_loss_test = model.evaluate(X_test, Y_test, verbose=0)\n",
    "        print('Best epoch: log_loss on test set: ' + str(log_loss_test[0]))\n",
    "        kfold_log_loss_test.append(log_loss_test[0])\n",
    "\n",
    "    all_history.append(kfold_history)\n",
    "    all_log_loss_test.append(kfold_log_loss_test)\n",
    "    all_checkpoint_filename.append(kfold_checkpoint_filename)\n",
    "    \n",
    "    # for parameter tuning we should just use the full validation set (which was already used for early stopping):\n",
    "    log_loss_validation = np.concatenate(kfold_log_loss_valid_per_sample).mean()\n",
    "    all_log_loss_validation.append(log_loss_validation)\n",
    "\n",
    "    # now use all the early stopped models (cross-validated) on our test drivers:\n",
    "    predictions_test = np.dstack(kfold_predictions_test)\n",
    "    predictions_test_medi = np.median(predictions_test, axis=2)\n",
    "    predictions_test_mean = np.mean(predictions_test, axis=2)\n",
    "    log_loss_ensemble_medi = log_loss_objective_compiled(Y_test, predictions_test_medi.astype('float32')).mean()\n",
    "    log_loss_ensemble_mean = log_loss_objective_compiled(Y_test, predictions_test_mean.astype('float32')).mean()\n",
    "    all_log_loss_ensemble_medi.append(log_loss_ensemble_medi)\n",
    "    all_log_loss_ensemble_mean.append(log_loss_ensemble_mean)"
   ]
  },
  {
   "cell_type": "code",
   "execution_count": 36,
   "metadata": {
    "code_folding": [
     1
    ],
    "collapsed": false,
    "scrolled": true
   },
   "outputs": [],
   "source": [
    "def disp_results(param_comb, all_log_loss_ensemble_medi,all_log_loss_ensemble_mean,all_log_loss_validation):\n",
    "    table_data = OrderedDict()\n",
    "    table_data.update(param_comb.get('params', dict()))\n",
    "    table_data.update(param_comb.get('params_input', dict()))\n",
    "    table_data['log_loss_test_set_ensemble_median'] = all_log_loss_ensemble_medi\n",
    "    table_data['log_loss_test_set_ensemble_mean'] = all_log_loss_ensemble_mean\n",
    "    table_data['mean_log_loss_valid_set'] = all_log_loss_validation\n",
    "\n",
    "    display(HTML(\n",
    "        '<table><tr>{}</tr></table>'.format(\n",
    "            '</tr><tr>'.join(\n",
    "                '<td>{}</td><td>{}</td>'.format(str(key),'</td><td>'.join(str(_) for _ in val)) for key, val in table_data.items())\n",
    "        )\n",
    "     ))\n",
    "\n",
    "    plt.figure()\n",
    "    plt.plot(all_log_loss_ensemble_medi,'r');\n",
    "    plt.plot(all_log_loss_ensemble_mean,'g');\n",
    "    plt.plot(all_log_loss_validation,'b');"
   ]
  },
  {
   "cell_type": "code",
   "execution_count": 38,
   "metadata": {
    "code_folding": [],
    "collapsed": false
   },
   "outputs": [
    {
     "name": "stdout",
     "output_type": "stream",
     "text": [
      "{'scale_factor': 16, 'color_type_global': 1, 'interp': 'cubic'}\n",
      "{'nb_dense': 60, 'dropout4': 0.4, 'optimizer': 'rmsprop', 'nb_filters3': 0, 'dropout1': 0.25, 'dropout2': 0.25, 'nb_filters1': 8, 'lr': 0.003, 'nb_conv': 3, 'nb_filters2': 10, 'dropout3': 0, 'weight_decay': 0.003, 'nb_pool': 2}\n"
     ]
    },
    {
     "data": {
      "text/html": [
       "<table><tr><td>interp</td><td>nearest</td><td>bilinear</td><td>bicubic</td><td>cubic</td></tr><tr><td>log_loss_test_set_ensemble_median</td><td>1.49036</td><td>1.6809</td><td>1.61438</td><td>1.53693</td></tr><tr><td>log_loss_test_set_ensemble_mean</td><td>1.55592</td><td>1.69003</td><td>1.62747</td><td>1.58843</td></tr><tr><td>mean_log_loss_valid_set</td><td>1.52279</td><td>1.64461</td><td>1.5716</td><td>1.61442</td></tr></table>"
      ],
      "text/plain": [
       "<IPython.core.display.HTML object>"
      ]
     },
     "metadata": {},
     "output_type": "display_data"
    },
    {
     "data": {
      "image/png": "[encoded data removed]",
      "text/plain": [
       "<matplotlib.figure.Figure at 0x7f34631a1400>"
      ]
     },
     "metadata": {},
     "output_type": "display_data"
    }
   ],
   "source": [
    "print(params_input)\n",
    "print(params)\n",
    "disp_results(param_comb, all_log_loss_ensemble_medi, all_log_loss_ensemble_mean,all_log_loss_validation)"
   ]
  },
  {
   "cell_type": "code",
   "execution_count": 40,
   "metadata": {
    "collapsed": false
   },
   "outputs": [
    {
     "name": "stdout",
     "output_type": "stream",
     "text": [
      "{'scale_factor': 12, 'color_type_global': 1, 'interp': 'nearest'}\n",
      "{'nb_dense': 60, 'dropout4': 0.4, 'optimizer': 'rmsprop', 'nb_filters3': 0, 'dropout1': 0.25, 'dropout2': 0.25, 'nb_filters1': 8, 'lr': 0.003, 'nb_conv': 3, 'nb_filters2': 10, 'dropout3': 0, 'weight_decay': 0.003, 'nb_pool': 2}\n"
     ]
    },
    {
     "data": {
      "text/html": [
       "<table><tr><td>log_loss_test_set_ensemble_median</td><td>1.68868</td></tr><tr><td>log_loss_test_set_ensemble_mean</td><td>1.61498</td></tr><tr><td>mean_log_loss_valid_set</td><td>1.64564</td></tr></table>"
      ],
      "text/plain": [
       "<IPython.core.display.HTML object>"
      ]
     },
     "metadata": {},
     "output_type": "display_data"
    },
    {
     "data": {
      "image/png": "[encoded data removed]",
      "text/plain": [
       "<matplotlib.figure.Figure at 0x7f344171b080>"
      ]
     },
     "metadata": {},
     "output_type": "display_data"
    }
   ],
   "source": [
    "print(params_input)\n",
    "print(params)\n",
    "disp_results(param_comb, all_log_loss_ensemble_medi, all_log_loss_ensemble_mean,all_log_loss_validation)"
   ]
  }
 ],
 "metadata": {
  "kernelspec": {
   "display_name": "Python 3",
   "language": "python",
   "name": "python3"
  },
  "language_info": {
   "codemirror_mode": {
    "name": "ipython",
    "version": 3
   },
   "file_extension": ".py",
   "mimetype": "text/x-python",
   "name": "python",
   "nbconvert_exporter": "python",
   "pygments_lexer": "ipython3",
   "version": "3.5.1"
  }
 },
 "nbformat": 4,
 "nbformat_minor": 0
}
