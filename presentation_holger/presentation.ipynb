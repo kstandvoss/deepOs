{
 "cells": [
  {
   "cell_type": "markdown",
   "metadata": {},
   "source": [
    "# Instructions\n",
    "\n",
    "\n",
    "* For model checkpointing to work, I had to fix a bug in keras. This fix can be found in my branch of keras:\n",
    "```\n",
    "git clone https://github.com/hfinger/keras.git\n",
    "cd keras\n",
    "python setup.py develop\n",
    "```\n",
    "\n",
    "* To run this as a presentation you need to install the RISE jupyter extension. I modified some slide stylings and fixed a bug with vertical centering of slides im my branch of RISE:\n",
    "```\n",
    "git clone https://github.com/hfinger/RISE.git\n",
    "cd RISE\n",
    "python setup.py install\n",
    "```\n"
   ]
  },
  {
   "cell_type": "code",
   "execution_count": 1,
   "metadata": {
    "collapsed": false
   },
   "outputs": [
    {
     "data": {
      "text/plain": [
       "{'center': False,\n",
       " 'height': 768,\n",
       " 'scroll': True,\n",
       " 'start_slideshow_at': 'selected',\n",
       " 'theme': 'serif',\n",
       " 'transition': 'zoom',\n",
       " 'width': 1024}"
      ]
     },
     "execution_count": 1,
     "metadata": {},
     "output_type": "execute_result"
    }
   ],
   "source": [
    "# this is to setup the presentation resolution to match to the projector. \n",
    "# You need to restart jupyter after executing this.\n",
    "from notebook.services.config import ConfigManager\n",
    "cm = ConfigManager()\n",
    "cm.update('livereveal', {\n",
    "        'width': 1024,\n",
    "        'height': 768,\n",
    "        'scroll': True,\n",
    "})"
   ]
  },
  {
   "cell_type": "code",
   "execution_count": 2,
   "metadata": {
    "collapsed": false,
    "slideshow": {
     "slide_type": "-"
    }
   },
   "outputs": [
    {
     "name": "stderr",
     "output_type": "stream",
     "text": [
      "Using Theano backend.\n",
      "Using gpu device 0: GeForce GTX TITAN X (CNMeM is enabled with initial size: 10.0% of memory, cuDNN 4007)\n"
     ]
    }
   ],
   "source": [
    "%matplotlib inline\n",
    "%load_ext autoreload\n",
    "%aimport statefarm\n",
    "%autoreload 1\n",
    "\n",
    "import matplotlib\n",
    "from IPython.display import SVG\n",
    "import numpy as np\n",
    "import matplotlib.pyplot as plt\n",
    "import os\n",
    "import keras\n",
    "import theano\n",
    "import theano.tensor as T\n",
    "import datetime\n",
    "from keras.models import Sequential\n",
    "from keras.layers.core import Dense, Dropout, Activation, Flatten\n",
    "from keras.layers.convolutional import Convolution2D, MaxPooling2D\n",
    "from keras.optimizers import SGD\n",
    "from keras.utils.visualize_util import model_to_dot\n",
    "from statefarm import Statefarm\n",
    "rng = np.random"
   ]
  },
  {
   "cell_type": "markdown",
   "metadata": {
    "slideshow": {
     "slide_type": "slide"
    }
   },
   "source": [
    "<br><br><br><br><br><br><br><br><br><br>\n",
    "\n",
    "# <p style=\"text-align: center;\">Deep Learning with Theano and Keras</p>\n",
    "<p style=\"text-align: center;\">Holger Finger</p>\n",
    "<p style=\"text-align: center;\">9.5.2016</p>"
   ]
  },
  {
   "cell_type": "markdown",
   "metadata": {
    "slideshow": {
     "slide_type": "slide"
    }
   },
   "source": [
    "<br><br><br><br><br><br><br><br><br><br>\n",
    "\n",
    "## <p style=\"text-align: center;\">Outline</p>\n",
    "\n",
    "1. Theano Tutorial\n",
    "\n",
    "2. Application to Distracted Driver Detection using Keras"
   ]
  },
  {
   "cell_type": "markdown",
   "metadata": {
    "slideshow": {
     "slide_type": "slide"
    }
   },
   "source": [
    "<br><br><br><br><br><br>\n",
    "# <p style=\"text-align: center;\">What is Theano?</p>\n",
    "\n",
    "> <a href=\"http://deeplearning.net/software/theano/\">Theano</a> is a Python library that allows you to define, optimize, and evaluate mathematical expressions involving multi-dimensional arrays efficiently.\n",
    "\n",
    "<br>\n",
    "* Tight integration with NumPy\n",
    "\n",
    "* Transparent use of a GPU\n",
    "\n",
    "* Efficient symbolic differentiation"
   ]
  },
  {
   "cell_type": "markdown",
   "metadata": {
    "slideshow": {
     "slide_type": "subslide"
    }
   },
   "source": [
    "### <p style=\"text-align: center;\">Generate some sample data</p>\n",
    "$$y=x \\cdot slope + offset$$\n",
    "<p style=\"text-align: center;\">and add some Gaussian noise</p>"
   ]
  },
  {
   "cell_type": "code",
   "execution_count": 3,
   "metadata": {
    "collapsed": false,
    "slideshow": {
     "slide_type": "fragment"
    }
   },
   "outputs": [
    {
     "data": {
      "image/png": "[encoded data removed]",
      "text/plain": [
       "<matplotlib.figure.Figure at 0x7fa68b0e1fd0>"
      ]
     },
     "metadata": {},
     "output_type": "display_data"
    }
   ],
   "source": [
    "N = 400\n",
    "slope = 3\n",
    "offset = 7\n",
    "data_x = rng.randn(N,)\n",
    "data_y = data_x * slope + offset + rng.randn(N,)\n",
    "plt.plot(data_x, data_y, 'r.');"
   ]
  },
  {
   "cell_type": "markdown",
   "metadata": {
    "slideshow": {
     "slide_type": "subslide"
    }
   },
   "source": [
    "## <p style=\"text-align: center;\">Defining a Model in Theano to learn from data</p>"
   ]
  },
  {
   "cell_type": "markdown",
   "metadata": {
    "slideshow": {
     "slide_type": "-"
    }
   },
   "source": [
    "Define Theano symbolic variables:"
   ]
  },
  {
   "cell_type": "code",
   "execution_count": 4,
   "metadata": {
    "collapsed": true
   },
   "outputs": [],
   "source": [
    "x = theano.tensor.vector(\"x\", dtype='float64')\n",
    "y = theano.tensor.vector(\"y\", dtype='float64')\n",
    "w = theano.shared(0., name=\"w\")\n",
    "b = theano.shared(0., name=\"b\")"
   ]
  },
  {
   "cell_type": "markdown",
   "metadata": {
    "slideshow": {
     "slide_type": "fragment"
    }
   },
   "source": [
    "Construct Theano expression graphs:"
   ]
  },
  {
   "cell_type": "code",
   "execution_count": 5,
   "metadata": {
    "collapsed": false,
    "slideshow": {
     "slide_type": "-"
    }
   },
   "outputs": [],
   "source": [
    "pred = x * w + b\n",
    "squared_err = ((pred - y) ** 2)\n",
    "loss = squared_err.mean()\n",
    "gw, gb = T.grad(loss, [w, b])"
   ]
  },
  {
   "cell_type": "markdown",
   "metadata": {
    "slideshow": {
     "slide_type": "fragment"
    }
   },
   "source": [
    "Compile Theano functions:"
   ]
  },
  {
   "cell_type": "code",
   "execution_count": 6,
   "metadata": {
    "code_folding": [],
    "collapsed": false,
    "slideshow": {
     "slide_type": "-"
    }
   },
   "outputs": [],
   "source": [
    "train = theano.function(inputs=[x,y], \n",
    "            outputs=[pred, squared_err], \n",
    "            updates=((w, w - 0.1 * gw), (b, b - 0.1 * gb)))\n",
    "predict = theano.function(inputs=[x], outputs=pred)"
   ]
  },
  {
   "cell_type": "markdown",
   "metadata": {
    "slideshow": {
     "slide_type": "subslide"
    }
   },
   "source": [
    "## <p style=\"text-align: center;\">Training the model</p>\n",
    "\n",
    "* Run this multiple times to see how the model (blue line) improves with each iteration:"
   ]
  },
  {
   "cell_type": "code",
   "execution_count": 7,
   "metadata": {
    "collapsed": false,
    "scrolled": false,
    "slideshow": {
     "slide_type": "-"
    }
   },
   "outputs": [
    {
     "name": "stdout",
     "output_type": "stream",
     "text": [
      "w = 0.00\n",
      "b = 0.00\n"
     ]
    },
    {
     "data": {
      "image/png": "[encoded data removed]",
      "text/plain": [
       "<matplotlib.figure.Figure at 0x7fa64efa4f28>"
      ]
     },
     "metadata": {},
     "output_type": "display_data"
    }
   ],
   "source": [
    "print(\"w = %.2f\" % w.get_value())\n",
    "print(\"b = %.2f\" % b.get_value())\n",
    "\n",
    "plt.plot(data_x, data_y, 'r.');\n",
    "plt.plot(np.linspace(-4,4,20), predict(np.linspace(-4,4,20)), 'b-');\n",
    "\n",
    "train(data_x, data_y);"
   ]
  },
  {
   "cell_type": "markdown",
   "metadata": {
    "slideshow": {
     "slide_type": "skip"
    }
   },
   "source": [
    "# <p style=\"text-align: center;\">Theano Expression Graphs</p>"
   ]
  },
  {
   "cell_type": "code",
   "execution_count": 8,
   "metadata": {
    "collapsed": false,
    "scrolled": true,
    "slideshow": {
     "slide_type": "skip"
    }
   },
   "outputs": [
    {
     "name": "stdout",
     "output_type": "stream",
     "text": [
      "The output file is available at images/graph_pred.png\n",
      "The output file is available at images/graph_loss.png\n",
      "The output file is available at images/graph_gw.png\n"
     ]
    }
   ],
   "source": [
    "theano.printing.pydotprint(\n",
    "        pred, \n",
    "        outfile='images/graph_pred.png',\n",
    "        format='png', var_with_name_simple=True)\n",
    "theano.printing.pydotprint(\n",
    "        loss, \n",
    "        outfile='images/graph_loss.png',\n",
    "        format='png', var_with_name_simple=True)\n",
    "theano.printing.pydotprint(\n",
    "        gw, \n",
    "        outfile='images/graph_gw.png',\n",
    "        format='png', var_with_name_simple=True)"
   ]
  },
  {
   "cell_type": "markdown",
   "metadata": {
    "slideshow": {
     "slide_type": "subslide"
    }
   },
   "source": [
    "# <p style=\"text-align: center;\">Theano Under the Hood</p>\n",
    "$$pred_i = x_i \\cdot w + b$$\n",
    "![graph pred](images/graph_pred.png)"
   ]
  },
  {
   "cell_type": "markdown",
   "metadata": {
    "slideshow": {
     "slide_type": "subslide"
    }
   },
   "source": [
    "### <p style=\"text-align: center;\">Graph of Squared Error Loss: $loss = \\frac{1}{N} \\cdot \\sum_{i=1}^N{ (pred_i - y_i) ^ 2 }$</p>\n",
    "![graph loss](images/graph_loss.png)"
   ]
  },
  {
   "cell_type": "markdown",
   "metadata": {
    "slideshow": {
     "slide_type": "subslide"
    }
   },
   "source": [
    "### <p style=\"text-align: center;\">Graph of Weight Gradient: $\\frac{\\partial loss}{\\partial w} = ...$</p>\n",
    "![graph gw](images/graph_gw.png)"
   ]
  },
  {
   "cell_type": "markdown",
   "metadata": {
    "slideshow": {
     "slide_type": "slide"
    }
   },
   "source": [
    "<br><br><br><br><br><br><br><br>\n",
    "# <p style=\"text-align: center;\">Part 2: Application:</p>\n",
    "# <p style=\"text-align: center;\">Distracted Driver Detection</p>"
   ]
  },
  {
   "cell_type": "markdown",
   "metadata": {
    "slideshow": {
     "slide_type": "subslide"
    }
   },
   "source": [
    "<br><br><br><br>\n",
    "## <p style=\"text-align: center;\">Kaggle Competition: </p>\n",
    "<br>\n",
    "### <p style=\"text-align: center;\">State Farm Distracted Driver Detection</p>\n",
    "\n",
    "<br>\n",
    "\n",
    "* Can 2D dashboard cameras automatically detect drivers engaging in distracted behaviors?\n",
    "\n",
    "<br>\n",
    "\n",
    "* Sponsored by State Farm (US based insurance company)\n",
    "\n",
    "<br>\n",
    "\n",
    "* Competition started on 5th April and ends on 1st August"
   ]
  },
  {
   "cell_type": "markdown",
   "metadata": {
    "slideshow": {
     "slide_type": "subslide"
    }
   },
   "source": [
    "### <p style=\"text-align: center;\">Data available from Statefarm</p>\n",
    "\n",
    "* 22424 training images with class labels\n",
    "\n",
    "* 79726 test images without class labels\n",
    "\n",
    "<table style=\"border: none;\">\n",
    "<tr style=\"border: none;\">\n",
    "<td style=\"border: none; text-align:center; font-size: 50%\">normal driving</td>\n",
    "<td style=\"border: none; text-align:center; font-size: 50%\">texting - right</td>\n",
    "<td style=\"border: none; text-align:center; font-size: 50%\">talking on the phone - right</td>\n",
    "<td style=\"border: none; text-align:center; font-size: 50%\">texting - left</td>\n",
    "<td style=\"border: none; text-align:center; font-size: 50%\">talking on the phone - left</td>\n",
    "</tr>\n",
    "<tr style=\"border: none;\">\n",
    "<td style=\"border: none;\"><img src=\"images/c0.jpg\"></td>\n",
    "<td style=\"border: none;\"><img src=\"images/c1.jpg\"></td>\n",
    "<td style=\"border: none;\"><img src=\"images/c2.jpg\"></td>\n",
    "<td style=\"border: none;\"><img src=\"images/c3.jpg\"></td>\n",
    "<td style=\"border: none;\"><img src=\"images/c4.jpg\"></td>\n",
    "</tr>\n",
    "<tr style=\"border: none;\">\n",
    "<td style=\"border: none; text-align:center; font-size: 50%\">operating the radio</td>\n",
    "<td style=\"border: none; text-align:center; font-size: 50%\">drinking</td>\n",
    "<td style=\"border: none; text-align:center; font-size: 50%\">reaching behind</td>\n",
    "<td style=\"border: none; text-align:center; font-size: 50%\">hair and makeup</td>\n",
    "<td style=\"border: none; text-align:center; font-size: 50%\">talking to passenger</td>\n",
    "</tr>\n",
    "<tr style=\"border: none;\">\n",
    "<td style=\"border: none;\"><img src=\"images/c5.jpg\"></td>\n",
    "<td style=\"border: none;\"><img src=\"images/c6.jpg\"></td>\n",
    "<td style=\"border: none;\"><img src=\"images/c7.jpg\"></td>\n",
    "<td style=\"border: none;\"><img src=\"images/c8.jpg\"></td>\n",
    "<td style=\"border: none;\"><img src=\"images/c9.jpg\"></td>\n",
    "</tr>\n",
    "</table>"
   ]
  },
  {
   "cell_type": "markdown",
   "metadata": {
    "slideshow": {
     "slide_type": "subslide"
    }
   },
   "source": [
    "### <p style=\"text-align: center;\">Evaluation</p>\n",
    "\n",
    "* Assign probabilities $p_{ij}$ that image $i$ belongs to class $j$\n",
    "\n",
    "* The submissions are rated according to multi-class cross-entropy loss:\n",
    "$$logloss = - \\frac{1}{N} \\sum_{i=1}^{N} \\sum_{j=1}^{M} y_{ij} \\cdot  log(p_{ij})$$\n",
    "\n",
    "* $y_{ij}$ is 1 if observation i belongs to class j and 0 otherwise\n",
    "\n",
    "* $p_{ij}$ is bounded between $10^{-15}$ and $1-10^{-15}$ and normalized to sum to 1 per image"
   ]
  },
  {
   "cell_type": "markdown",
   "metadata": {
    "slideshow": {
     "slide_type": "slide"
    }
   },
   "source": [
    "### <p style=\"text-align: center;\">Introduction to Keras</p>\n",
    "* What is Keras?\n",
    "> <a href=\"http://keras.io\">Keras</a> is a minimalist, highly modular neural networks library, written in Python and capable of running on top of either <a href=\"https://www.tensorflow.org\">TensorFlow</a> or <a href=\"http://deeplearning.net/software/theano\">Theano</a>.\n",
    "* Defining a Keras model:"
   ]
  },
  {
   "cell_type": "code",
   "execution_count": 9,
   "metadata": {
    "collapsed": false
   },
   "outputs": [],
   "source": [
    "model = Sequential()\n",
    "model.add(Flatten(input_shape=(1, 24, 32)))\n",
    "model.add(Dense(20, activation='relu'))\n",
    "model.add(Dense(10, activation='softmax'))"
   ]
  },
  {
   "cell_type": "code",
   "execution_count": 10,
   "metadata": {
    "collapsed": false,
    "scrolled": true,
    "slideshow": {
     "slide_type": "fragment"
    }
   },
   "outputs": [
    {
     "name": "stdout",
     "output_type": "stream",
     "text": [
      "____________________________________________________________________________________________________\n",
      "Layer (type)                       Output Shape        Param #     Connected to                     \n",
      "====================================================================================================\n",
      "flatten_1 (Flatten)                (None, 768)         0           flatten_input_1[0][0]            \n",
      "____________________________________________________________________________________________________\n",
      "dense_1 (Dense)                    (None, 20)          15380       flatten_1[0][0]                  \n",
      "____________________________________________________________________________________________________\n",
      "dense_2 (Dense)                    (None, 10)          210         dense_1[0][0]                    \n",
      "====================================================================================================\n",
      "Total params: 15590\n",
      "____________________________________________________________________________________________________\n"
     ]
    }
   ],
   "source": [
    "model.summary()"
   ]
  },
  {
   "cell_type": "code",
   "execution_count": 11,
   "metadata": {
    "collapsed": false,
    "slideshow": {
     "slide_type": "skip"
    }
   },
   "outputs": [],
   "source": [
    "keras.utils.visualize_util.plot(model, to_file='images/keras_model.png')"
   ]
  },
  {
   "cell_type": "markdown",
   "metadata": {
    "slideshow": {
     "slide_type": "skip"
    }
   },
   "source": [
    "### <p style=\"text-align: center;\">Keras Model Graph:</p>\n",
    "![graph keras](images/keras_model.png)"
   ]
  },
  {
   "cell_type": "code",
   "execution_count": 12,
   "metadata": {
    "collapsed": false,
    "slideshow": {
     "slide_type": "skip"
    }
   },
   "outputs": [
    {
     "name": "stdout",
     "output_type": "stream",
     "text": [
      "The output file is available at images/graph_model.png\n"
     ]
    }
   ],
   "source": [
    "theano.printing.pydotprint(\n",
    "        model.output, \n",
    "        outfile='images/graph_model.png',\n",
    "        format='png', var_with_name_simple=True)"
   ]
  },
  {
   "cell_type": "markdown",
   "metadata": {
    "slideshow": {
     "slide_type": "subslide"
    }
   },
   "source": [
    "### <p style=\"text-align: center;\">Theano Graph generated by the Keras model:</p>\n",
    "![graph model](images/graph_model.png)"
   ]
  },
  {
   "cell_type": "markdown",
   "metadata": {
    "slideshow": {
     "slide_type": "subslide"
    }
   },
   "source": [
    "## <p style=\"text-align: center;\">Some preparations to train the model:</p>"
   ]
  },
  {
   "cell_type": "markdown",
   "metadata": {},
   "source": [
    "<font size=\"5\">We define the specific loss function that is used to grade the submissions:</font>"
   ]
  },
  {
   "cell_type": "code",
   "execution_count": 13,
   "metadata": {
    "collapsed": true
   },
   "outputs": [],
   "source": [
    "def log_loss_objective(y_true, y_pred):\n",
    "    y_pred = T.clip(y_pred, 1.0e-15, 1.0 - 1.0e-15)\n",
    "    y_pred /= y_pred.sum(axis=-1, keepdims=True)\n",
    "    cce = T.nnet.categorical_crossentropy(y_pred, y_true)\n",
    "    return cce"
   ]
  },
  {
   "cell_type": "markdown",
   "metadata": {
    "slideshow": {
     "slide_type": "-"
    }
   },
   "source": [
    "<font size=\"5\">Compile the model and use standard gradient descent (SGD) as optimizer:</font>"
   ]
  },
  {
   "cell_type": "code",
   "execution_count": 14,
   "metadata": {
    "code_folding": [
     1
    ],
    "collapsed": false,
    "slideshow": {
     "slide_type": "-"
    }
   },
   "outputs": [],
   "source": [
    "model.compile(loss=log_loss_objective, \n",
    "              optimizer=SGD(lr=0.01, \n",
    "                            decay=0, \n",
    "                            momentum=0, \n",
    "                            nesterov=False))"
   ]
  },
  {
   "cell_type": "markdown",
   "metadata": {
    "slideshow": {
     "slide_type": "-"
    }
   },
   "source": [
    "<font size=\"5\">Load training data:</font>"
   ]
  },
  {
   "cell_type": "code",
   "execution_count": 15,
   "metadata": {
    "code_folding": [
     0
    ],
    "collapsed": false
   },
   "outputs": [],
   "source": [
    "# load statefarm data:\n",
    "use_cache = 1\n",
    "path_data = \"/net/store/ni/projects/deeplearning/statefarm\"\n",
    "path_cache = \"/net/store/ni/projects/deeplearning/statefarm/cache\"\n",
    "\n",
    "statefarm = Statefarm(use_cache, path_data, path_cache)\n",
    "\n",
    "# color type: 1 - grey, 3 - rgb\n",
    "color_type_global = 1\n",
    "\n",
    "# input image dimensions\n",
    "img_rows, img_cols = 24, 32\n",
    "\n",
    "train_data, train_target, d_ids, unique_drivers = statefarm.read_and_normalize_train_data(\n",
    "    img_rows, img_cols, color_type_global)\n",
    "test_data, test_id = statefarm.read_and_normalize_test_data(img_rows, img_cols, color_type_global)\n",
    "\n",
    "yfull_train = dict()\n",
    "yfull_test = []\n",
    "unique_list_train = ['p002', 'p012', 'p014', 'p015', 'p021', 'p022', 'p024',\n",
    "                 'p026', 'p035', 'p039', 'p041', 'p045', 'p047', 'p049',\n",
    "                 'p050', 'p051', 'p052', 'p056', 'p061', 'p064', 'p066', 'p072']\n",
    "unique_list_valid = ['p081', 'p042']\n",
    "unique_list_test = ['p075', 'p016']\n",
    "\n",
    "X_train, Y_train, train_index = statefarm.copy_selected_drivers(train_data, train_target, d_ids, unique_list_train)\n",
    "X_valid, Y_valid, valid_index = statefarm.copy_selected_drivers(train_data, train_target, d_ids, unique_list_valid)\n",
    "X_test, Y_test, test_index = statefarm.copy_selected_drivers(train_data, train_target, d_ids, unique_list_test)"
   ]
  },
  {
   "cell_type": "markdown",
   "metadata": {
    "slideshow": {
     "slide_type": "-"
    }
   },
   "source": [
    "<font size=\"5\">Save weights during training and stop training if validation loss increases:</font>"
   ]
  },
  {
   "cell_type": "code",
   "execution_count": 16,
   "metadata": {
    "code_folding": [],
    "collapsed": false,
    "slideshow": {
     "slide_type": "-"
    }
   },
   "outputs": [],
   "source": [
    "# Define training callbacks\n",
    "now = datetime.datetime.now()\n",
    "checkpoint_filename = 'checkpoint_' + str(now.strftime(\"%Y-%m-%d-%H-%M-%S\")) + '.hdf5'\n",
    "checkpoint_path = os.path.join('checkpoints', checkpoint_filename)\n",
    "checkpoint_callback = keras.callbacks.ModelCheckpoint(checkpoint_path, monitor='val_loss', verbose=0, \n",
    "                                                      save_best_only=True, mode='min')\n",
    "\n",
    "early_stopping_cb = keras.callbacks.EarlyStopping(monitor='val_loss', patience=10, verbose=0, mode='min')"
   ]
  },
  {
   "cell_type": "markdown",
   "metadata": {
    "slideshow": {
     "slide_type": "subslide"
    }
   },
   "source": [
    "## <p style=\"text-align: center;\">Train the model and print the log loss</p>"
   ]
  },
  {
   "cell_type": "code",
   "execution_count": 17,
   "metadata": {
    "code_folding": [],
    "collapsed": false,
    "slideshow": {
     "slide_type": "-"
    }
   },
   "outputs": [
    {
     "name": "stdout",
     "output_type": "stream",
     "text": [
      "log_loss before training: 2.38\n",
      "log_loss of validation set: 1.66\n",
      "log_loss of test set: 1.99\n"
     ]
    }
   ],
   "source": [
    "print('log_loss before training: %.2f' % model.evaluate(X_valid, Y_valid, verbose=0))\n",
    "\n",
    "history = model.fit(X_train, Y_train, batch_size=32, \n",
    "                    nb_epoch=100, verbose=0, \n",
    "                    validation_data=(X_valid, Y_valid), \n",
    "                    callbacks=[checkpoint_callback, early_stopping_cb])\n",
    "\n",
    "model.load_weights(checkpoint_path)\n",
    "print('log_loss of validation set: %.2f' % model.evaluate(X_valid, Y_valid, verbose=0))\n",
    "print('log_loss of test set: %.2f' % model.evaluate(X_test, Y_test, verbose=0))"
   ]
  },
  {
   "cell_type": "markdown",
   "metadata": {
    "slideshow": {
     "slide_type": "fragment"
    }
   },
   "source": [
    "* Log loss of the uniform predictor is $2.303$\n",
    "* Log loss of the optimal predictor is $9.99\\cdot 10^{-16} \\approx 0$"
   ]
  },
  {
   "cell_type": "markdown",
   "metadata": {
    "slideshow": {
     "slide_type": "subslide"
    }
   },
   "source": [
    "## <p style=\"text-align: center;\">Problems with overfitting</p>\n",
    "* we are overfitting when the loss on the validation set increases"
   ]
  },
  {
   "cell_type": "code",
   "execution_count": 18,
   "metadata": {
    "code_folding": [],
    "collapsed": false
   },
   "outputs": [
    {
     "data": {
      "image/png": "[encoded data removed]",
      "text/plain": [
       "<matplotlib.figure.Figure at 0x7fa64d2b34a8>"
      ]
     },
     "metadata": {},
     "output_type": "display_data"
    }
   ],
   "source": [
    "# plot log loss during training\n",
    "plt.figure()\n",
    "plt.plot(history.history[\"loss\"], label='training_loss');\n",
    "plt.plot(history.history[\"val_loss\"], label='validation_loss');\n",
    "plt.xlabel('epoch');\n",
    "plt.ylabel('log loss');\n",
    "plt.legend(loc='best');"
   ]
  },
  {
   "cell_type": "markdown",
   "metadata": {
    "slideshow": {
     "slide_type": "subslide"
    }
   },
   "source": [
    "## <p style=\"text-align: center;\">Some Improvements</p>\n",
    "\n",
    "* Adding more layers\n",
    "    * two layers, then softmax\n",
    "* Add Regularization terms:\n",
    "    * use Weight decay\n",
    "* Reduce number of parameters\n",
    "    * use convolutional layers instead of dense layers\n",
    "* Nested K-Fold cross validation\n",
    "* Ensamble methods\n",
    "    * train multiple models on different subsets of the training data and for prediction use all at the same time and calculate median"
   ]
  },
  {
   "cell_type": "markdown",
   "metadata": {
    "slideshow": {
     "slide_type": "fragment"
    }
   },
   "source": [
    "### Results with these improvements so far\n",
    "log loss $\\approx 1.5$"
   ]
  },
  {
   "cell_type": "markdown",
   "metadata": {
    "slideshow": {
     "slide_type": "slide"
    }
   },
   "source": [
    "## <p style=\"text-align: center;\">Future Improvements?</p>\n",
    "* Use given test data (no class labels) for unsupervised pre-training of autoencoders\n",
    "* Use better ensamble methods than just median (i.e. boosting, ...)\n",
    "* Use higher dimensional inputs (color and resolution)\n",
    "* ...?"
   ]
  },
  {
   "cell_type": "markdown",
   "metadata": {
    "slideshow": {
     "slide_type": "fragment"
    }
   },
   "source": [
    "#### Conclusion: Drive Safely\n",
    "<table style=\"border: none;\">\n",
    "<tr style=\"border: none;\">\n",
    "<td style=\"border: none; text-align:center; font-size: 50%\">normal driving</td>\n",
    "<td style=\"border: none; text-align:center; font-size: 50%\">texting - right</td>\n",
    "<td style=\"border: none; text-align:center; font-size: 50%\">talking on the phone - right</td>\n",
    "<td style=\"border: none; text-align:center; font-size: 50%\">texting - left</td>\n",
    "<td style=\"border: none; text-align:center; font-size: 50%\">talking on the phone - left</td>\n",
    "</tr>\n",
    "<tr style=\"border: none;\">\n",
    "<td style=\"border: none;\"><img src=\"images/c0.jpg\"></td>\n",
    "<td style=\"border: none;\"><img src=\"images/c1.jpg\"></td>\n",
    "<td style=\"border: none;\"><img src=\"images/c2.jpg\"></td>\n",
    "<td style=\"border: none;\"><img src=\"images/c3.jpg\"></td>\n",
    "<td style=\"border: none;\"><img src=\"images/c4.jpg\"></td>\n",
    "</tr>\n",
    "<tr style=\"border: none;\">\n",
    "<td style=\"border: none; text-align:center; font-size: 50%\">operating the radio</td>\n",
    "<td style=\"border: none; text-align:center; font-size: 50%\">drinking</td>\n",
    "<td style=\"border: none; text-align:center; font-size: 50%\">reaching behind</td>\n",
    "<td style=\"border: none; text-align:center; font-size: 50%\">hair and makeup</td>\n",
    "<td style=\"border: none; text-align:center; font-size: 50%\">talking to passenger</td>\n",
    "</tr>\n",
    "<tr style=\"border: none;\">\n",
    "<td style=\"border: none;\"><img src=\"images/c5.jpg\"></td>\n",
    "<td style=\"border: none;\"><img src=\"images/c6.jpg\"></td>\n",
    "<td style=\"border: none;\"><img src=\"images/c7.jpg\"></td>\n",
    "<td style=\"border: none;\"><img src=\"images/c8.jpg\"></td>\n",
    "<td style=\"border: none;\"><img src=\"images/c9.jpg\"></td>\n",
    "</tr>\n",
    "</table>"
   ]
  }
 ],
 "metadata": {
  "celltoolbar": "Slideshow",
  "kernelspec": {
   "display_name": "Python 3",
   "language": "python",
   "name": "python3"
  },
  "language_info": {
   "codemirror_mode": {
    "name": "ipython",
    "version": 3
   },
   "file_extension": ".py",
   "mimetype": "text/x-python",
   "name": "python",
   "nbconvert_exporter": "python",
   "pygments_lexer": "ipython3",
   "version": "3.5.1"
  }
 },
 "nbformat": 4,
 "nbformat_minor": 0
}
